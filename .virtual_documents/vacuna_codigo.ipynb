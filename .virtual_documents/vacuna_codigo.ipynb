import pandas as pd
import csv
import datetime
from datetime import date
from datetime import timedelta

import matplotlib.dates as mdates
import matplotlib.pyplot as plt
import matplotlib.ticker as mtick
import matplotlib.patheffects as pe

import matplotlib as mpl
from cycler import cycler


#style and font
plt.style.use("default")
plt.style.use("Solarize_Light2")
plt.rcParams['font.family'] = 'Manjari'


mpl.rcParams['axes.prop_cycle'] = cycler(color='bgrcmyk')
color_cycle = plt.rcParams['axes.prop_cycle'].by_key()['color']


# Colores
color_vac_parcial1 = "orange"
color_vac_completa1 = "#f55919"
color_total_dosis1 = "#38deaa"
color3 = "blue"
color4 = "#7537be"
color_terceras = "m"
col_vac_almenos = "m"
col_vac_comp = "pink"


def annotate_bar(series, axis, text_color="black", fontsize=12, x_offset=0, y_offset=0, edgecolor="black", facecolor="white", alpha=0.5, start_text="", end_text=""):
    for p in axs[axis].patches:
        axs[axis].annotate(start_text + str(p.get_width()) + end_text,
                           xy=(p.get_width() + x_offset, p.get_y() + y_offset),
                           fontsize = fontsize,
                           color = text_color,
                           bbox={
                                'edgecolor': edgecolor,
                                'facecolor': facecolor,
                                'alpha': alpha}
           )


def annotate_last_flat(df, column_index, axis = 0, text_color="black", fontsize=12, offset_days=0, edgecolor="black", facecolor="white", alpha=0.5,start_text="", end_text=""):
    axs[axis].annotate(start_text + str(df.iloc[-1, column_index].round(0).astype(int)) + end_text, 
           xy = (df.index[-1] + datetime.timedelta(days=offset_days), df.iloc[-1,column_index]),
           fontsize=fontsize,
           color=text_color,
           bbox = {"edgecolor":edgecolor,
                   "facecolor":facecolor,
                   "alpha":alpha}
           )

def annotate_last_nonflat(df, column_index, axis, text_color="black", fontsize=12, offset_days=0, edgecolor="black", facecolor="white", alpha=0.5, start_text="", end_text=""):
    axs[axis].annotate(start_text + str(df.iloc[-1, column_index]) + end_text, 
           xy = (df.index[-1] + datetime.timedelta(days=offset_days), df.iloc[-1,column_index]),
           fontsize=fontsize,
           color=text_color,
           bbox = {"edgecolor":edgecolor,
                   "facecolor":facecolor,
                   "alpha":alpha}
           )


ordenado = ['Bolivia', 'La Paz','Cochabamba','Santa Cruz', 'Oruro', 'Potosí', 'Chuquisaca','Tarija','Beni','Pando']


atribucion_mds_mau_edu = "Fuente: Ministerio de Salud vía Mauricio Foronda y Gabriel Weise. Datos: Github.com/sociedatos\nVisualización de BoliGráfica (Diego Acevedo Quintanilla)"


habitantes = pd.read_csv("https://raw.githubusercontent.com/dquintani/covid/main/habitantes.csv",index_col = None)
# habitantes = habitantes[ordenado]

habitantes


# poblacion vacunable

# pob_vacunable = pd.read_csv("https://raw.githubusercontent.com/pr0nstar/covid19-pruebas/master/data/vaccine.target.population.csv", index_col=0)
pob_vacunable = pd.read_csv("https://raw.githubusercontent.com/pr0nstar/covid19-pruebas/master/data/bolivia.population.depts.2021.csv", index_col=0)
pob_vacunable.insert(4,"Bolivia", pob_vacunable.sum(axis=1))
pob_vac = pob_vacunable[::-1].cumsum()

pob_vac = pob_vac.loc["5"] # INSERT AGE HERE
pob_vac = pob_vac[ordenado]
pob_vac=pd.DataFrame(pob_vac).T
pob_vac


porc_vacunable = (pob_vac.div(habitantes.iloc[0])*100).round(1)
porc_vacunable


# url1_BC = "https://docs.google.com/spreadsheets/d/e/2PACX-1vS1GavkhNJ3z6aF83fOVHMJTtkfZ71Pianv4O6Qvq5xutWh3hSoNqMVF5ZBo0mj8Vw5oOBbs7t_fymK/pub?gid=0&single=true&output=csv"
# url2_BC = "https://docs.google.com/spreadsheets/d/e/2PACX-1vS1GavkhNJ3z6aF83fOVHMJTtkfZ71Pianv4O6Qvq5xutWh3hSoNqMVF5ZBo0mj8Vw5oOBbs7t_fymK/pub?gid=2002090716&single=true&output=csv"


# primeras_BC = pd.read_csv(url1_BC, index_col=0)
# primeras_BC = primeras_BC[ordenado]#.fillna(0)
# primeras_BC.index = pd.to_datetime(primeras_BC.index, format= "%Y-%m-%d")
# primeras_BC


# segundas_BC = pd.read_csv(url2_BC, index_col=0)
# segundas_BC = segundas_BC[ordenado]#.fillna(0)
# segundas_BC.index = pd.to_datetime(segundas_BC.index, format= "%Y-%m-%d") 

# segundas_BC


# url1_MF = "https://raw.githubusercontent.com/mauforonda/vacunas/master/datos/primera.csv"
# url2_MF = "https://raw.githubusercontent.com/mauforonda/vacunas/master/datos/segunda.csv"


# primeras_MF = pd.read_csv(url1_MF, index_col=0)
# primeras_MF = primeras_MF[['Total', 'La Paz','Cochabamba','Santa Cruz', 'Oruro', 'Potosi', 'Chuquisaca','Tarija','Beni','Pando']].fillna(0)
# primeras_MF = primeras_MF.rename(columns={"Total": "Bolivia", "Potosi": "Potosí"})
# #primeras_MF.index = pd.to_datetime(primeras_MF.index) 

# primeras_MF


# segundas_MF = pd.read_csv(url2_MF, index_col=0)
# segundas_MF = segundas_MF[['Total', 'La Paz','Cochabamba','Santa Cruz', 'Oruro', 'Potosi', 'Chuquisaca','Tarija','Beni','Pando']].fillna(0)
# segundas_MF = segundas_MF.rename(columns={"Total": "Bolivia", "Potosi": "Potosí"})
# #segundas_MF.index = pd.to_datetime(segundas_MF.index) 


# segundas_MF


# url_MF2 = "https://raw.githubusercontent.com/mauforonda/vacunas_unidoscontraelcovid/master/consolidado/vacunas.csv"
# MF2 = pd.read_csv(url_MF2, index_col=0)
# MF2.index = pd.to_datetime(MF2.index)
# MF2


# lista_dptm = list(MF2.groupby("departamento").count().index.array)

# primera = pd.DataFrame()

# for i in ["primera"]:
#     for k in range(len(lista_dptm)):
#         primerax = MF2[(MF2.tipo==i) & (MF2.departamento==lista_dptm[k])].rename({"dosis":lista_dptm[k]},axis=1).iloc[:,-1]
#         primera = pd.concat([primera, primerax], axis=1)
#         # display(primera)

# primeras = primera.rename(columns={"Potosi": "Potosí"})
# primeras.index = pd.to_datetime(primeras.index)

# primeras.insert(0,"Bolivia",primeras.sum(axis=1))
# primeras.plot()

# plt.title("primeras")
# primeras


# segunda = pd.DataFrame()

# for i in ["segunda"]:
#     for k in range(len(lista_dptm)):
#         segundax = MF2[(MF2.tipo==i) & (MF2.departamento==lista_dptm[k])].rename({"dosis":lista_dptm[k]},axis=1).iloc[:,-1]
#         segunda = pd.concat([segunda, segundax], axis=1)

# segundas = segunda.rename(columns={"Potosi": "Potosí"})
# segundas.index = pd.to_datetime(segundas.index)
# segundas.insert(0,"Bolivia",segundas.sum(axis=1))
# segundas.plot()
# plt.title("segundas")
# segundas


# unica = pd.DataFrame()

# for i in ["única"]:
#     for k in range(len(lista_dptm)):
#         unicax = MF2[(MF2.tipo==i) & (MF2.departamento==lista_dptm[k])].rename({"dosis":lista_dptm[k]},axis=1).iloc[:,-1]
#         unica = pd.concat([unica, unicax], axis=1)

# unicas = unica.rename(columns={"Potosi": "Potosí"})
# unicas.index = pd.to_datetime(unicas.index)
# unicas.insert(0,"Bolivia",unicas.sum(axis=1))
# unicas.plot()

# unicas = unicas.div(primeras/primeras).fillna(0)

# unicas.tail()
# plt.title("unicas")


# OLD
# df_vac_edu = pd.read_csv("https://raw.githubusercontent.com/pr0nstar/covid19-data/master/processed/bolivia/vaccinations.csv", 
#     header=[0, 1], 
#     index_col=[0])
# display(df_vac_edu)


#NEW
df_vac_edu = pd.read_csv("https://github.com/sociedatos/covid19-bo-vacunas_por_departamento/raw/master/vaccinations.csv", 
    header=[0, 1], 
    index_col=[0])
display(df_vac_edu)



# Clean
df_vac_edu.index = pd.to_datetime(df_vac_edu.index)
dptm_names = ['Beni', 'Chuquisaca', 'Cochabamba', 'La Paz', 'Oruro', 'Pando', 'Potosi','Santa Cruz', 'Tarija']
dptm_names_fix = ['Beni', 'Chuquisaca', 'Cochabamba', 'La Paz', 'Oruro', 'Pando', 'Potosí','Santa Cruz', 'Tarija']

# create df for each type of dose



dfx = pd.DataFrame()
for i in range(len(dptm_names)):
    df1 = df_vac_edu[dptm_names[i]].Primera
    df1.name = dptm_names_fix[i]
    dfx = pd.concat([dfx, df1], axis=1)
primeras_acum = dfx
primeras_acum["Bolivia"] = primeras_acum.sum(axis=1)
primeras_acum = primeras_acum[ordenado]
primeras_acum.index   = df_vac_edu.index



dfx = pd.DataFrame()
for i in range(len(dptm_names)):
    df1 = df_vac_edu[dptm_names[i]].Segunda
    df1.name = dptm_names_fix[i]
    dfx = pd.concat([dfx, df1], axis=1)
segundas_bid_acum = dfx
segundas_bid_acum["Bolivia"] = segundas_bid_acum.sum(axis=1)
segundas_bid_acum = segundas_bid_acum[ordenado]
segundas_bid_acum.index   = df_vac_edu.index



dfx = pd.DataFrame()
for i in range(len(dptm_names)):
    df1 = df_vac_edu[dptm_names[i]].Unica
    df1.name = dptm_names_fix[i]
    dfx = pd.concat([dfx, df1], axis=1)
unicas_acum = dfx
unicas_acum["Bolivia"] = unicas_acum.sum(axis=1)
unicas_acum = unicas_acum[ordenado]
unicas_acum.index   = df_vac_edu.index



dfx = pd.DataFrame()
for i in range(len(dptm_names)):
    df1 = df_vac_edu[dptm_names[i]].Tercera
    df1.name = dptm_names_fix[i]
    dfx = pd.concat([dfx, df1], axis=1)
terceras_acum = dfx
terceras_acum["Bolivia"] = terceras_acum.sum(axis=1)
terceras_acum = terceras_acum[ordenado]
terceras_acum.index   = df_vac_edu.index



dfx = pd.DataFrame()
for i in range(len(dptm_names)):
    df1 = df_vac_edu[dptm_names[i]].Anual
    df1.name = dptm_names_fix[i]
    dfx = pd.concat([dfx, df1], axis=1)
anuales_acum = dfx
anuales_acum["Bolivia"] = anuales_acum.sum(axis=1)
anuales_acum = anuales_acum[ordenado]
anuales_acum.index   = df_vac_edu.index


#final fix
anuales_acum = anuales_acum.fillna(0)






##########################################
# DISPLAY?
# display(primeras)
# display(segundas)
# display(unicas)
display(terceras_acum)
display(anuales_acum)


#dosis individuales
primeras_acum = primeras_acum.dropna().resample("D").mean().interpolate("linear")
segundas_bid_acum = segundas_bid_acum.dropna().resample("D").mean().interpolate("linear")
unicas_acum = unicas_acum.dropna().resample("D").mean().interpolate("linear")
terceras_acum = terceras_acum.dropna().resample("D").mean().interpolate("linear")
anuales_acum = anuales_acum.dropna().resample("D").mean().interpolate("linear")

#dos diferentes dosis
segunda_o_unica_acum = segundas_bid_acum.dropna().resample("D").mean().interpolate("linear") + unicas_acum.dropna().resample("D").mean().interpolate("linear")


# primeras.index = pd.to_datetime(primeras.index) 
# segunda_o_unica_acum.index = pd.to_datetime(segunda_o_unica_acum.index)
# segundas_bid.index = pd.to_datetime(segundas_bid.index)
# terceras_acum.index = pd.to_datetime(terceras_acum.index)




################################33
# FIG

plt.title("dosis acumuladas - total")
primeras_acum.Bolivia.plot(label="primeras bi-dosis")
segunda_o_unica_acum.Bolivia.plot(label="segundas bi-dosis + unicas")
segundas_bid_acum.Bolivia.plot(label="segundas bi-dosis")
unicas_acum.Bolivia.plot(label="unicas")
terceras_acum.Bolivia.plot(label="terceras")
anuales_acum.Bolivia.plot(label="anuales")
plt.legend()


anuales_acum.iloc[441:]


#Per capita - POR CADA 100 habitantes
primeras_pc = primeras_acum.div(habitantes.iloc[0])*100
segunda_o_unica_pc = segunda_o_unica_acum.div(habitantes.iloc[0])*100
segundas_bid_pc = segundas_bid_acum.div(habitantes.iloc[0])*100
unicas_pc = unicas_acum.div(habitantes.iloc[0])*100
terceras_pc = terceras_acum.div(habitantes.iloc[0]) * 100 # new
anuales_pc = anuales_acum.div(habitantes.iloc[0]) * 100 # new


################################33
# FIG

plt.title("dosis acumuladas por cada 100 hab. - %")
primeras_pc.Bolivia.plot(label="primeras bi-dosis")
segunda_o_unica_pc.Bolivia.plot(label="segundas bi-dosis + unicas")
segundas_bid_pc.Bolivia.plot(label="segundas bi-dosis")
unicas_pc.Bolivia.plot(label="unicas")
terceras_pc.Bolivia.plot(label="terceras_acum_pc") #new

plt.legend()



#DOSIS DIARIAS TOTAL
primeras_dia = primeras_acum.diff()
segundas_bid_dia = segundas_bid_acum.diff()
segunda_o_unica_dia =  segunda_o_unica_acum.diff()
unicas_dia = unicas_acum.diff()
terceras_dia = terceras_acum.diff()
anuales_dia = anuales_acum.diff()


################################33
# FIG

plt.rcParams['figure.figsize'] = (20,4)
plt.title("dosis diarias (ajustada con promedio movil)")

primeras_dia.Bolivia.rolling(7).mean().plot(label="primeras bi-dosis")
segunda_o_unica_dia.Bolivia.rolling(7).mean().plot(label="segundas bi-dosis + unicas")
segundas_bid_dia.Bolivia.rolling(7).mean().plot(label="segundas bi-dosis")
unicas_dia.Bolivia.rolling(7).mean().plot(label="unicas")
terceras_dia.Bolivia.rolling(7).mean().plot(label="terceras")
anuales_dia.Bolivia.rolling(7).mean().plot(label="anuales")

plt.legend()


anuales_dia





# DIARIAS POR CADA 100 HABITANTES - no graph here
primeras_dia_pc = primeras_dia.div(habitantes.iloc[0])*100
segundas_bid_dia_pc = segundas_bid_dia.div(habitantes.iloc[0])*100
segunda_o_unica_dia_pc = segunda_o_unica_dia.div(habitantes.iloc[0])*100
unicas_dia_pc = unicas_dia.div(habitantes.iloc[0])*100
terceras_dia_pc = terceras_dia.div(habitantes.iloc[0])*100
anuales_dia_pc = anuales_dia.div(habitantes.iloc[0])*100

# FIG

terceras_dia_pc.plot(title="terceras per capita")
plt.xlim(xmin = terceras_dia_pc.index[250])


almenos_una_acum = primeras_acum + unicas_acum
almenos_una_pc_acum = almenos_una_acum.div(habitantes.iloc[0])*100



######################
## FIG


plt.rcParams['figure.figsize'] = (8,4)
plt.title("AL MENOS UNA DOSIS (TIENEN PRIMERA O UNICA)")
almenos_una_acum.Bolivia.plot(label="al menos una dosis, ultima = {}".format(almenos_una_acum.Bolivia[-1]))
plt.legend()


primera_vez = almenos_una_acum.diff()


################3
# FIG

primera_vez.Bolivia.rolling(7).mean().plot(title="VACUNADOS POR PRIMERA VEZ: almenos una diario", lw=3.5)
primera_vez.Bolivia.plot(title="PRIMERA VEZ: almenos una diario", lw=.3)



terceras_vacunable_acum = terceras_acum.div(pob_vac.iloc[0])*100
almenos_una_vacunable_acum = almenos_una_acum.div(pob_vac.iloc[0])*100


########
# FIG

almenos_una_pc_acum.plot(title="almenos una per capita acumulado")
terceras_vacunable_acum.plot(title="terceras vacunable")


fig, axs = plt.subplots(2,5, figsize=(25,7), dpi=300)
axs = axs.flatten()

for i in range(10):
    axs[i].set_title(segunda_o_unica_pc.columns[i])
    axs[i].plot(segunda_o_unica_pc.iloc[:,i], label="segunda_o_unica_pc")
    axs[i].plot(almenos_una_pc_acum.iloc[:,i], label="primera o unica - almenos una")
    axs[i].plot(terceras_pc.iloc[:,i], label="terceras")
    axs[i].legend()
    annotate_last_flat(almenos_una_pc_acum,i, axis=i,offset_days=0)
    annotate_last_flat(segunda_o_unica_pc,i, axis=i,offset_days=-20)
    annotate_last_flat(terceras_pc,i, axis=i,offset_days=-20)
    
fig.tight_layout()


periodo = 60
habilitados_refuerzo_acum = segunda_o_unica_acum.shift(periodo, freq="D").iloc[:-periodo,:]
habilitados_refuerzo_acum_falta = habilitados_refuerzo_acum - terceras_acum


plt.title("metodologia")
habilitados_refuerzo_acum.Bolivia.plot(label="Habilitados para reforzarse (segundas+unicas shifted 60 dias)")
habilitados_refuerzo_acum_falta.Bolivia.plot(label="Habilitados sin refuerzo", lw=6)
segunda_o_unica_acum.Bolivia.plot(label="segundas bi-dosis + unicas")
terceras_acum.Bolivia.plot(label="terceras_acum")


plt.legend()


directory = ""
folder="datos/"

# -------

primeras_acum.fillna(0).astype(int).to_csv(directory + folder + "primeras_bidosis_acumulado.csv")
primeras_dia.fillna(0).astype(int).to_csv(directory + folder + "primeras_bidosis_diario.csv")

segundas_bid_acum.fillna(0).astype(int).to_csv(directory + folder + "segundas_bidosis_acumulado.csv")
segundas_bid_dia.fillna(0).astype(int).to_csv(directory + folder + "segundas_bidosis_diario.csv")

unicas_acum.fillna(0).astype(int).to_csv(directory + folder + "unicas_acumulado.csv")
unicas_dia.fillna(0).astype(int).to_csv(directory + folder + "unicas_diario.csv")

terceras_acum.fillna(0).astype(int).to_csv(directory + folder + "dosis_refuerzo1_acumulado.csv")
terceras_dia.fillna(0).astype(int).to_csv(directory + folder + "dosis_refuerzo1_diario.csv")

anuales_acum.fillna(0).astype(int).to_csv(directory + folder + "dosis_refuerzo2_anuales_acumulado.csv")
anuales_dia.fillna(0).astype(int).to_csv(directory + folder + "dosis_refuerzo2_anuales_diario.csv")


ultima_actualizacion = "última actualización: {}".format(primeras_acum.index[-1].date())
ultima_actualizacion


anuales_dia#.Bolivia.rolling(7).mean().round().fillna(0).astype(int)


fig, axs = plt.subplots(3,1, sharex=False,
                        figsize=(20,16),
                        dpi=100
                        )

axs = axs.flatten()

fig.suptitle("COVID-19 en Bolivia:\nResumen Nacional de Vacunación", fontsize = 46, y=1.03)
fig.text(0.5,.917,horizontalalignment='center',s=ultima_actualizacion, fontsize=18, color="grey")
fig.text(0.5,0.04,horizontalalignment='center',s=atribucion_mds_mau_edu, fontsize=16)
# fig.set_facecolor(background_color1)








#axs[0].grid(zorder=0)
axs[0].set_title("Cantidad diaria que reciben su primera dosis (primera bi-dosis o Janssen):", fontsize=21)
axs[0].scatter(primera_vez.index, primera_vez.Bolivia, color="black", label="Aplicación diaria, máximo histórico = {} ({})".format(primera_vez.Bolivia.fillna(0).astype(int).max(), primera_vez.Bolivia.idxmax().date()), 
               edgecolors='black', linewidth=.5, s=7.5) 
axs[0].plot(primera_vez.index, primera_vez.Bolivia.rolling(7).mean(), color="black",label="Promedio móvil semanal de la aplicación diaria", linewidth=2.5, path_effects=[pe.Stroke(linewidth=3, foreground='black'), pe.Normal()])
axs[0].fill_between(primera_vez.Bolivia.index, primera_vez.Bolivia.rolling(7).mean(), color="brown", alpha=.5)
axs[0].legend(fontsize=22)
annotate_last_flat(df=primera_vez.rolling(7).mean().fillna(0).astype(int), column_index=0, axis = 0, offset_days=2, alpha=.8)











axs[1].set_title("Aplicación por tipo de dosis", fontsize=21)
anuales_dia_fix = anuales_dia.resample("D")
df = primeras_dia.Bolivia
axs[1].stackplot(primeras_dia.index, 
                    [
                     primeras_dia.Bolivia.rolling(7).mean().round().fillna(0).astype(int),
                     segundas_bid_dia.Bolivia.rolling(7).mean().round().fillna(0).astype(int),
                     unicas_dia.Bolivia.rolling(7).mean().round().fillna(0).astype(int),
                     terceras_dia.Bolivia.rolling(7).mean().round().fillna(0).astype(int),
                     anuales_dia.Bolivia.rolling(7).mean().round().fillna(0).astype(int)
                    ],
                 alpha=.85, labels=["Primeras Bi-dosis","Segundas Bi-dosis","Janssen (Únicas)","Primer Refuerzo ('Tercera')","Segundo Refuerzo ('Anual')"])

axs[1].legend(fontsize=20, loc="upper left")









#axs[2].grid(zorder=1)
axs[2].set_title("Cobertura de vacunación:", fontsize=21)
axs[2].plot(almenos_una_acum.Bolivia.interpolate(), color=color_vac_parcial1, linewidth=5, 
            label="CON AL MENOS UNA DOSIS --- Último: {} personas, {}% de la población total.".format(almenos_una_acum.Bolivia[-1].astype(int),almenos_una_pc_acum.Bolivia[-1].round(1)))
axs[2].fill_between(almenos_una_acum.Bolivia.index, almenos_una_acum.Bolivia.interpolate(), color=color_vac_parcial1, alpha=.5)

annotate_last_flat(df=almenos_una_acum.fillna(0).astype(int), column_index=0, axis = 2, offset_days=2, alpha=.5,
                    end_text= f"\n{almenos_una_pc_acum.Bolivia[-1].round(1)}%"
                   )

axs[2].plot(segunda_o_unica_acum.Bolivia.interpolate(), color=color_vac_completa1,linewidth=5, 
            label="CON SEGUNDA BI-DOSIS O JANSSEN --- Último: {} personas, {}% de la población total.".format(segunda_o_unica_acum.Bolivia[-1].astype(int),segunda_o_unica_pc.Bolivia[-1].round(1)))
axs[2].fill_between(segunda_o_unica_acum.Bolivia.index, segunda_o_unica_acum.Bolivia.interpolate(), color=color_vac_completa1, alpha=.5)
axs[2].legend(fontsize=16)
annotate_last_flat(df=segunda_o_unica_acum.fillna(0).astype(int), column_index=0, axis = 2, offset_days=2, alpha=.5,
                    end_text= f"\n{segunda_o_unica_pc.Bolivia[-1].round(1)}%"
                    )

axs[2].plot(terceras_acum.Bolivia.interpolate(), color=color_terceras,linewidth=5, 
            label="CON PRIMERA DOSIS DE REFUERZO (TERCERA) --- Último: {} personas, {}% de la población total.".format(terceras_acum.Bolivia[-1].astype(int),terceras_pc.Bolivia[-1].round(1)))
axs[2].fill_between(terceras_acum.Bolivia.index, terceras_acum.Bolivia.interpolate(), color=color_terceras, alpha=.5)
axs[2].legend(fontsize=14)
annotate_last_flat(df=terceras_acum.fillna(0).astype(int), column_index=0, axis = 2, offset_days=2, alpha=.5,
                    end_text= f"\n{terceras_pc.Bolivia[-1].round(1)}%"
                    )

axs[2].plot(anuales_acum.Bolivia.interpolate().iloc[441:], color="black",linewidth=5, 
            label="CON SEGUNDA DOSIS DE REFUERZO (ANUAL) --- Último: {} personas, {}% de la población total.".format(anuales_acum.Bolivia[-1].astype(int),anuales_pc.Bolivia[-1].round(1)))
axs[2].fill_between(anuales_acum.Bolivia.index, anuales_acum.Bolivia.interpolate(), color="black", alpha=.5)
axs[2].legend(fontsize=14)
annotate_last_flat(df=anuales_acum.fillna(0).astype(int), column_index=0, axis = 2, offset_days=2, alpha=.5,
                    end_text= f"\n{anuales_pc.Bolivia[-1].round(1)}%"
                    )

axs[2].legend(title="POBLACIÓN:", fontsize=16, title_fontsize=18)









fig.savefig(directory + "resumen_nacional.jpg", bbox_inches="tight")


fig, axs = plt.subplots(10,3, figsize = (25,35),
                        dpi = 165
                        )
#axs = axs.flatten()
fig.suptitle("COVID-19 en Bolivia:\n Resumen departamental de vacunación", y=1.06, fontsize = 65)
fig.text(0.5,.975,horizontalalignment='center',s=ultima_actualizacion, fontsize=35, color='grey')
fig.text(0.5,-.025,horizontalalignment='center',s=atribucion_mds_mau_edu, fontsize=30)

# fig.set_facecolor(background_color1)



for i in range(10):
    axs[i,0].set_title("Dosis aplicadas diariamente en {}".format(primeras_dia.columns[i]))

    axs[i,0].plot(primeras_dia.index, primeras_dia.iloc[:,i].interpolate().rolling(7).mean(),color = color_vac_parcial1, label="Primeras - promedio", linewidth = 3, zorder=3)
    axs[i,0].plot(segundas_bid_dia.index, segundas_bid_dia.iloc[:,i].interpolate().rolling(7).mean(),color = color_vac_completa1, label="Segundas", linewidth = 3, zorder=3)  
    axs[i,0].plot(unicas_dia.index, unicas_dia.iloc[:,i].interpolate().rolling(7).mean(),color = color3, label="Únicas", linewidth = 3, zorder=3)  
    axs[i,0].plot(terceras_dia.index, terceras_dia.iloc[:,i].interpolate().rolling(7).mean(),color = color_terceras, label="Primer refuerzo (tercera)", linewidth = 3, zorder=3)  
    axs[i,0].plot(anuales_dia.index[421:], anuales_dia.iloc[421:,i].interpolate().rolling(7).mean(),color = "black", label="Segundo refuerzo (anual)", linewidth = 3, zorder=3)  

    axs[i,0].legend(loc="upper left")
    axs[i,0].legend(loc="upper left")
    axs[i,0].set_ylim(bottom=0)


for i in range(10):
    axs[i,1].set_title("Cantidad diaria de personas recibiendo su primera dosis en {}".format(primeras_dia.columns[i]))
    axs[i,1].scatter(primera_vez.index, primera_vez.iloc[:,i], color = "#25ba0e", label="aplicación diaria", s=3, zorder=2)
    axs[i,1].plot(primera_vez.index, primera_vez.iloc[:,i].interpolate().rolling(7).mean(),color = "#25ba0e", label="promedio semanal", linewidth = 3, zorder=3)
    axs[i,1].fill_between(primera_vez.index, primera_vez.iloc[:,i].interpolate().rolling(7).mean(),color = "#25ba0e", zorder=3, alpha=.3)
    axs[i,1].legend()
    annotate_last_nonflat(primera_vez.rolling(7).mean().round().fillna(0).astype(int), i, axis=(i,1), text_color="black", fontsize=6, offset_days=5, edgecolor="black", facecolor="white", alpha=0.8)
    axs[i,1].set_ylim(bottom=0, top = primera_vez.iloc[:,i].interpolate().rolling(7).mean().max())



for i in range(10):
    axs[i,2].set_title("Vacunación por cada 100 habitantes de {}".format(primeras_dia.columns[i]))
    axs[i,2].plot(almenos_una_pc_acum.iloc[:,i].interpolate(), label = "Al menos una dosis", color= color_vac_parcial1, linewidth = 3, zorder=2)
    axs[i,2].plot(segunda_o_unica_pc.iloc[:,i].interpolate(), label = "Segunda o Janssen",color= color_vac_completa1, linewidth = 3, zorder=3)
    axs[i,2].plot(terceras_pc.iloc[:,i].interpolate(), label = "Primer refuerzo (terceras)",color= color_terceras, linewidth = 3, zorder=3)
    axs[i,2].plot(anuales_pc.iloc[421:,i].interpolate(), label = "Segundo refuerzo (anuales)",color= "black", linewidth = 3, zorder=3)
    axs[i,2].fill_between(almenos_una_pc_acum.index, almenos_una_pc_acum.iloc[:,i].interpolate(),color= color_vac_parcial1,zorder=2, alpha=.0)
    axs[i,2].fill_between(segunda_o_unica_pc.index, segunda_o_unica_pc.iloc[:,i].interpolate(),color= color_vac_completa1, zorder=3, alpha=.0)
    axs[i,2].legend(loc= "center left")
    axs[i,2].set_yticks([0,25,50,75,100])
    axs[i,2].set_yticklabels([0,25,50,75,100],fontsize=30)
    annotate_last_nonflat(almenos_una_pc_acum.rolling(7).mean().round().fillna(0).round(1), i, axis=(i,2), text_color="black", fontsize=6, offset_days=5, edgecolor="black", facecolor="white", alpha=0.8)
    annotate_last_nonflat(segunda_o_unica_pc.rolling(7).mean().round().fillna(0).round(1), i, axis=(i,2), text_color="black", fontsize=6, offset_days=5, edgecolor="black", facecolor="white", alpha=0.8)
    annotate_last_nonflat(terceras_pc.rolling(7).mean().round().fillna(0).round(1), i, axis=(i,2), text_color="black", fontsize=6, offset_days=5, edgecolor="black", facecolor="white", alpha=0.8)
    annotate_last_nonflat(anuales_pc.rolling(7).mean().round().fillna(0).round(1), i, axis=(i,2), text_color="black", fontsize=6, offset_days=5, edgecolor="black", facecolor="white", alpha=0.8)

fig.tight_layout()

fig.savefig(directory + "resumen_detallado.jpg", bbox_inches="tight")


fig, axs = plt.subplots(2,1, figsize=(15,8),dpi=150)
axs=axs.flatten()

fig.suptitle("Vacunación contra el COVID-19 en Bolivia: Resumen Estadístico", fontsize=25)
fig.text(0.5,.0,horizontalalignment='center',s=ultima_actualizacion)
fig.text(0.5,-.04,horizontalalignment='center',s=atribucion_mds_mau_edu, fontsize=10)

# fig.set_facecolor(background_color1)

sort_primeras = almenos_una_acum.iloc[-1,1:10].sort_values(ascending=True).fillna(0).astype(int)
sort_segundas = segunda_o_unica_acum.iloc[-1,1:10].sort_values(ascending=True).fillna(0).astype(int)
sort_terceras = terceras_acum.iloc[-1,1:10].sort_values(ascending=True).fillna(0).astype(int)
sort_anuales = anuales_acum.iloc[-1,1:10].sort_values(ascending=True).fillna(0).astype(int)

axs[0].grid(zorder=1)
axs[0].set_title("Población vacunada:", fontsize=16)
axs[0].barh(sort_primeras.index, sort_primeras, label="Con al menos una dosis", color=color_vac_parcial1, alpha=.7)
axs[0].barh(sort_segundas.index, sort_segundas, label="Con segunda bi-dosis o janssen", color=color_vac_completa1, alpha=.7)
axs[0].barh(sort_terceras.index, sort_terceras, label="Con primer refuerzo (tercera)", color=color_terceras, alpha=.7)
axs[0].barh(sort_anuales.index, sort_anuales, label="Con segundo refuerzo (anual)", color="black", alpha=.7)
axs[0].legend(fontsize=16)
axs[0].get_xaxis().get_major_formatter().set_scientific(False)
annotate_bar(sort_primeras,0, fontsize=8, y_offset=.3, x_offset=0, alpha=0)



sort_primeras = almenos_una_pc_acum.iloc[-1,:].sort_values(ascending=True).round(1)
sort_segundas = segunda_o_unica_pc.iloc[-1,:].sort_values(ascending=True).round(1)
sort_terceras = terceras_pc.iloc[-1,:].sort_values(ascending=True).round(1)
sort_anuales = anuales_pc.iloc[-1,:].sort_values(ascending=True).round(1)

axs[1].grid(zorder=1)
axs[1].set_title("Porcentaje de la población vacunada:", fontsize=16)
axs[1].barh(sort_primeras.index, sort_primeras, label="Con al menos una dosis", color=color_vac_parcial1, alpha=.7)
axs[1].barh(sort_segundas.index, sort_segundas, label="Con segunda bi-dosis o janssen", color=color_vac_completa1, alpha=.7)
axs[1].barh(sort_terceras.index, sort_terceras, label="Con primer refuerzo (tercera)", color=color_terceras, alpha=.7)
axs[1].barh(sort_anuales.index, sort_anuales, label="Con segundo refuerzo (anual)", color="black", alpha=.7)
axs[1].legend(fontsize=16, loc="lower right")
axs[1].set_xlim(0,100)
annotate_bar(sort_primeras,1, fontsize=11, y_offset=.22, x_offset=.3, alpha=0, end_text="%")

# axs[1].axvline(50, color="grey")
# axs[1].text(50.3,0,"50%", color="grey", fontsize=16)
fig.tight_layout(pad=2)
fig.savefig(directory + "resumen_departamental.jpg", bbox_inches="tight")


fig, axs = plt.subplots(2,2,figsize=(14,10), sharey=True, dpi=120)
axs = axs.flatten()

fig.suptitle("¡Importante! Diferencia entre los porcentajes de vacunación (%) sobre la:\n\n Población Total\nvs\nPoblación Vacunable (+5 años)", fontsize=19, y=.95,
    bbox={"facecolor":"navajowhite", "alpha":.2, "edgecolor":"black",'linewidth': 2})

# color4= col_vac_almenos
color3 = "#ff75be"
# color3= col_vac_comp
color4= "m"

axs[0].set_title("Vacunación en Bolivia, población TOTAL (%)")
axs[0].grid(alpha=.2)
axs[0].plot(almenos_una_pc_acum.Bolivia, label="al menos una dosis", color=color_vac_parcial1)
axs[0].plot(terceras_pc.Bolivia, label="vacunados con primera de refuerzo", color = color_vac_completa1)
axs[0].fill_between(almenos_una_pc_acum.index, almenos_una_pc_acum.Bolivia, color=color_vac_parcial1, alpha=.4)
axs[0].fill_between(terceras_pc.index, terceras_pc.Bolivia, color = color_vac_completa1, alpha=.4,)
axs[0].set_ylabel("% de la población medida")
axs[0].legend()

axs[1].set_title("Vacunación en Bolivia, población VACUNABLE (%)")
axs[1].grid(alpha=.2)
axs[1].plot(almenos_una_vacunable_acum.Bolivia, label="al menos una dosis", color = color3)
axs[1].plot(terceras_vacunable_acum.Bolivia, label="vacunados con primera dosis de refuerzo (tercera)", color = color4)
axs[1].fill_between(almenos_una_vacunable_acum.index, almenos_una_vacunable_acum.Bolivia, color = color3, alpha=.6,)
axs[1].fill_between(terceras_vacunable_acum.index, terceras_vacunable_acum.Bolivia, color = color4, alpha=.4,)
axs[1].set_ylabel("% de la población medida")
axs[1].legend()

axs[2].get_xaxis().set_visible(False)
axs[3].get_xaxis().set_visible(False)
axs[2].get_yaxis().set_visible(False)
axs[3].get_yaxis().set_visible(False)










x=list(range(10))
width=.25
b=.15
x1 = [i + b for i in x]
x2 = [i - b  for i in x]

axs[3] = fig.add_subplot(212)
axs[3].set_title("", fontsize=18)
axs[3].grid(alpha=.2)

# sorted = almenos_una_pc_acum.iloc[-1,:].sort_values(ascending=False)
bar2 = axs[3].bar(x2,almenos_una_pc_acum.iloc[-1,:].round(0).astype(int), alpha=.4,width = width, label="Vacunados con al menos una dosis - población TOTAL (%)", zorder=2, color=color_vac_parcial1)
bar1 = axs[3].bar(x2,terceras_pc.iloc[-1,:].round(0).astype(int), alpha=.4, width = width, label="Vacunados con primera de refuerzo - población TOTAL (%)", zorder=3, color=color_vac_completa1)
bar4 = axs[3].bar(x1,almenos_una_vacunable_acum.iloc[-1,:].round(1).astype(float), alpha=.6,width = width, label="Vacunados con al menos una dosis - población VACUNABLE (%)", zorder=2, color = color3)
bar3 = axs[3].bar(x1,terceras_vacunable_acum.iloc[-1,:].round(0).astype(int), alpha=.4,width = width, label="Vacunados con primera de refuerzo - población VACUNABLE (%)", zorder=3, color = color4)

annotate_last_flat(terceras_pc,0, end_text="%", alpha=.6, facecolor
                   ="navajowhite")
annotate_last_flat(almenos_una_pc_acum,0, end_text="%", alpha=.6, facecolor="navajowhite")
annotate_last_flat(terceras_vacunable_acum,0, axis=1, end_text="%", alpha=.6, facecolor="navajowhite")
annotate_last_flat(almenos_una_vacunable_acum,0, axis=1, end_text="%", alpha=.6, facecolor="navajowhite")

axs[3].bar_label(bar1, color="black", label_type="center", fontsize=9, fmt='%.0f%%')
axs[3].bar_label(bar2, color="black", padding=-13, fontsize=9, fmt='%.0f%%')
axs[3].bar_label(bar3, color="black", label_type="center", fontsize=9, fmt='%.0f%%')
axs[3].bar_label(bar4, color="black", padding=-13, fontsize=9, fmt='%.0f%%')


axs[3].set_xticks(x)
axs[3].set_xticklabels(terceras_pc.columns, fontsize=12)
axs[3].set_ylim(0,100)
axs[3].set_ylabel("% de la población medida")
axs[3].legend(loc = "upper center", ncol=2, fontsize=13)

fig.text(0.5,-.04,horizontalalignment='center',s=ultima_actualizacion, fontsize=14)
fig.text(0.5,-0.01,horizontalalignment='center',s=atribucion_mds_mau_edu+ ". \nPoblación total de Bolivia: 11620000 // Población +5 en Bolivia: 10655356 (INE)", fontsize=10)

fig.tight_layout(pad=3)

fig.savefig(directory + "total_vs_vacunable.jpg", bbox_inches="tight")


fig, axs = plt.subplots(5,2,figsize=(20,25), dpi=200)
axs = axs.flatten()

fig.suptitle("VACUNACIÓN COVID-19 EN BOLIVIA\nCantidad diaria de personas que reciben su primera dosis", fontsize=40, y = 1.02, color="white")
fig.text(s="Solo incluye primeras dosis (esquemas bi-dosis) y Janssen (esquemas únicos)",
         x=.5,y=.946, ha="center",
         fontsize=20, color="#39FF14")
fig.text(s=ultima_actualizacion,
         x=.5,y=.913, ha="center",
         fontsize=20, color="white")
fig.text(s=atribucion_mds_mau_edu,
         x=.5, y=0.04, ha="center", fontsize=18, color="#39FF14")

fig.set_facecolor("black")

start = 0

for i in range(10):
    axs[i].set_facecolor("black")
    axs[i].grid(color="dimgray", lw=.2)

    axs[i].scatter(primera_vez.index[start:],primera_vez.iloc[start:,i], color="#39FF14", s=1)
    axs[i].plot(primera_vez.index[start:],primera_vez.iloc[start:,i].rolling(7).mean(), color="#39FF14", linewidth=2.4)
    axs[i].fill_between(primera_vez.index[start:],primera_vez.iloc[start:,i].rolling(7).mean(), color="#39FF14", alpha=.18)
    axs[i].text(s=primera_vez.columns[i],
               x=primera_vez.index[start+ 10] ,y=primera_vez.iloc[start:,i].rolling(7).mean().max()*1.08, color="#39FF14", fontsize=28, bbox={"alpha":.3, "color":"w"})
    axs[i].spines['top'].set_visible(False)
    axs[i].spines['left'].set_visible(False)
    axs[i].spines['right'].set_visible(False)
    axs[i].spines['bottom'].set_visible(False)
    axs[i].tick_params(labelcolor="w", color="w", rotation=40)
    annotate_last_nonflat(primera_vez.rolling(7).mean().round().fillna(0).astype(int), i, axis=i, start_text="último\npromedio:\n", text_color="#39FF14", 
                          fontsize=13, offset_days=5, edgecolor="#39FF14", facecolor="white", alpha=0.1)


    
    axs[i].set_ylim(0, primera_vez.iloc[start:,i].rolling(7).mean().max()*1.26)
    
fig.savefig(directory + "primera_vacunacion.jpg", bbox_inches="tight")


fig, axs = plt.subplots(1,1)
axs.set_title('Covid-19 en Bolivia:\nCantidad de personas habilitadas para recibir la tercera dosis \n y que todavía NO la recibieron')
axs.plot(habilitados_refuerzo_acum_falta.index, habilitados_refuerzo_acum_falta.Bolivia, label="Habilitados sin refuerzo")

axs.text(s = "Aquellas personas que recibieron la segunda dosis (esquema bi-dosis) \n y la Janssen están habilitadas para recibir la tercera \n dosis despues de 2 meses, de acuerdo al Ministerio de Salud y Deportes.", 
        x=habilitados_refuerzo_acum_falta.index[200],
        y=-1300000, ha="center")
axs.get_yaxis().get_major_formatter().set_scientific(False)
axs.annotate(text = habilitados_refuerzo_acum_falta.Bolivia[-1],
             xy=(habilitados_refuerzo_acum_falta.index[-1]+timedelta(days=10),
                 habilitados_refuerzo_acum_falta.Bolivia[-1]),
             bbox={"alpha":.2})

fig.savefig("habilitado_refuerzo1.jpg", bbox_inches="tight")


# fig, axs = plt.subplots(3,1, sharex=False,
#                         figsize=(20,16),
#                         dpi=100
#                         )

# axs = axs.flatten()

# fig.suptitle("BOLIVIA: Resumen Nacional de Vacunación contra el COVID-19", fontsize = 24, y=.95)
# fig.text(0.5,.91,horizontalalignment='center',s=ultima_actualizacion)
# fig.text(0.5,0.08,horizontalalignment='center',s=atribucion, fontsize=16)
# # fig.set_facecolor(background_color1)


# #axs[0].grid(zorder=0)
# axs[0].set_title("Aplicación Diaria de todas las dosis:", fontsize=18)
# axs[0].scatter(todas_dia.index, todas_dia.Bolivia, color=color_total_dosis1, label="Aplicación diaria, máximo histórico = {} ({})".format(todas_dia.Bolivia.fillna(0).astype(int).max(), todas_dia.Bolivia.idxmax().date()), edgecolors='black', linewidth=.5) 
# axs[0].plot(todas_dia.index, todas_dia.Bolivia.rolling(7).mean(), color=color_total_dosis1,label="Promedio móvil semanal de la aplicación diaria", linewidth=5)
# axs[0].fill_between(todas_dia.Bolivia.index, todas_dia.Bolivia.rolling(7).mean(), color=color_total_dosis1, alpha=.5)
# axs[0].legend(fontsize=16)
# annotate_last_flat(df=todas_dia.rolling(7).mean().fillna(0).astype(int), column_index=0, axis = 0, offset_days=2, alpha=.8)


# #axs[1].grid(zorder=0)
# axs[1].set_title("Aplicación Diaria por tipo de dosis:", fontsize=18)
# axs[1].scatter(primeras_dia.index, primeras_dia.Bolivia, color=color_vac_parcial1, s = 4) 
# axs[1].plot(primeras_dia.index, primeras_dia.Bolivia.interpolate().rolling(7).mean(), color=color_vac_parcial1, label="Aplicación promedio semanal - Primeras (bi-dosis)", linewidth=2.5)
# axs[1].fill_between(primeras_dia.Bolivia.index, primeras_dia.Bolivia.rolling(7).mean(), color=color_vac_parcial1, alpha=.3)
# annotate_last_flat(df=primeras_dia.rolling(7).mean().round().fillna(0).astype(int), column_index=0, axis = 1, offset_days=2, alpha=.5)

# axs[1].scatter(segundas_bid_dia.index, segundas_bid_dia.Bolivia, color=color_vac_completa1, s = 4) 
# axs[1].plot(segundas_bid_dia.index, segundas_bid_dia.Bolivia.interpolate().rolling(7).mean(), color=color_vac_completa1,label="Aplicación promedio semanal - Segundas (bi-dosis)", linewidth=2.5)
# axs[1].fill_between(segundas_bid_dia.Bolivia.index, segundas_bid_dia.Bolivia.rolling(7).mean(), color=color_vac_completa1, alpha=.3)
# axs[1].legend(fontsize=16, loc="upper left")
# annotate_last_flat(df=segundas_bid_dia.rolling(7).mean().round().fillna(0).astype(int), column_index=0, axis = 1, offset_days=2, alpha=.5)

# axs[1].scatter(unicas_dia.index, unicas_dia.Bolivia, color=color3, s = 4) 
# axs[1].plot(unicas_dia.index, unicas_dia.Bolivia.interpolate().rolling(7).mean(), color=color3,label="Aplicación promedio semanal - Dosis únicas (Janssen)", linewidth=2.5)
# axs[1].fill_between(unicas_dia.Bolivia.index, unicas_dia.Bolivia.rolling(7).mean(), color=color3, alpha=.3)
# axs[1].legend(fontsize=16, loc="upper left")
# annotate_last_flat(df=unicas_dia.rolling(7).mean().round().fillna(0).astype(int), column_index=0, axis = 1, offset_days=2, alpha=.5)

# axs[1].scatter(terceras_dia.index, terceras_dia.Bolivia, color=color3, s = 4) 
# axs[1].plot(terceras_dia.index, terceras_dia.Bolivia.interpolate().rolling(7).mean(), color=color_terceras,label="Aplicación promedio semanal - Terceras dosis", linewidth=2.5)
# axs[1].fill_between(terceras_dia.Bolivia.index, terceras_dia.Bolivia.rolling(7).mean(), color=color_terceras, alpha=.3)
# axs[1].legend(fontsize=16, loc="upper left")
# annotate_last_flat(df=terceras_dia.rolling(7).mean().round().fillna(0).astype(int), column_index=0, axis = 1, offset_days=2, alpha=.5)

# axs[1].set_ylim(0,50000)


# #axs[2].grid(zorder=1)
# axs[2].set_title("Total de vacunas aplicadas sobre la población TOTAL de Bolivia:", fontsize=18)
# axs[2].plot(almenos_una_acum.Bolivia.interpolate(), color=color_vac_parcial1, linewidth=2.5, 
#             label="POBLACIÓN CON AL MENOS UNA DOSIS\nÚltimo: {} personas, aproximadamente {}% de la población total.\n".format(almenos_una_acum.Bolivia[-1].astype(int),almenos_una_pc_acum.Bolivia[-1].astype(int)))
# axs[2].fill_between(almenos_una_acum.Bolivia.index, almenos_una_acum.Bolivia.interpolate(), color=color_vac_parcial1, alpha=.5)

# annotate_last_flat(df=almenos_una_acum.fillna(0).astype(int), column_index=0, axis = 2, offset_days=2, alpha=.5,
#                    #end_text="{} segundas dosis y Janssen aplicadas, lo cual cubre \n aproximadamente el {}% de la población total".format(segunda_o_unica_acum.Bolivia[-1],segunda_o_unica_pc.Bolivia[-1].round())
#                    )

# axs[2].plot(segunda_o_unica_acum.Bolivia.interpolate(), color=color_vac_completa1,linewidth=2.5, 
#             label="POBLACIÓN COMPLETAMENTE VACUNADA \nÚltimo: {} personas, aproximadamente {}% de la población total.\n".format(segunda_o_unica_acum.Bolivia[-1].astype(int),segunda_o_unica_pc.Bolivia[-1].astype(int)))
# axs[2].fill_between(segunda_o_unica_acum.Bolivia.index, segunda_o_unica_acum.Bolivia.interpolate(), color=color_vac_completa1, alpha=.5)
# axs[2].legend(fontsize=16)
# annotate_last_flat(df=segunda_o_unica_acum.fillna(0).astype(int), column_index=0, axis = 2, offset_days=2, alpha=.5,
#                     #end_text=" segundas dosis y Janssen aplicadas, lo cual cubre \n aproximadamente el {}% de la población total".format(segunda_o_unica_pc.Bolivia[-1].round())
#                     )

# axs[2].plot(terceras_acum.Bolivia.interpolate(), color=color_terceras,linewidth=2.5, 
#             label="POBLACIÓN CON TERCERA DOSIS \nÚltimo: {} personas, aproximadamente {}% de la población total.".format(terceras_acum.Bolivia[-1].astype(int),terceras_acum_pc.Bolivia[-1].astype(int)))
# axs[2].fill_between(terceras_acum.Bolivia.index, terceras_acum.Bolivia.interpolate(), color=color_terceras, alpha=.5)
# axs[2].legend(fontsize=16)
# annotate_last_flat(df=terceras_acum.fillna(0).astype(int), column_index=0, axis = 2, offset_days=2, alpha=.5,
#                     #end_text=" segundas dosis y Janssen aplicadas, lo cual cubre \n aproximadamente el {}% de la población total".format(segunda_o_unica_pc.Bolivia[-1].round())
#                     )

# fig.savefig(directory + "resumen_nacional.jpg", bbox_inches="tight")


# fig, axs = plt.subplots(10,4, figsize = (25,30),
#                         dpi = 165
#                         )
# #axs = axs.flatten()
# fig.suptitle("Resumen departamental de la vacunación contra el COVID-19 en Bolivia", y=1.03, fontsize = 34)
# fig.text(0.5,-.01,horizontalalignment='center',s=ultima_actualizacion, fontsize=16)
# fig.text(0.5,-.02,horizontalalignment='center',s=atribucion, fontsize=16)

# # fig.set_facecolor(background_color1)



# for i in range(10):
#   #axs[i,0].grid(zorder=1)
#   axs[i,0].set_title("Dosis aplicadas diariamente en {}".format(primeras_dia.columns[i]))
#   axs[i,0].scatter(primeras_dia.index, primeras_dia.iloc[:,i], color = color_vac_parcial1, s=3, zorder=2)
#   axs[i,0].plot(primeras_dia.index, primeras_dia.iloc[:,i].interpolate().rolling(7).mean(),color = color_vac_parcial1, label="Primeras - promedio", linewidth = 3, zorder=3)
#   axs[i,0].scatter(segundas_bid_dia.index, segundas_bid_dia.iloc[:,i], color = color_vac_completa1, s=3, zorder=2)
#   axs[i,0].plot(segundas_bid_dia.index, segundas_bid_dia.iloc[:,i].interpolate().rolling(7).mean(),color = color_vac_completa1, label="Segundas", linewidth = 3, zorder=3)  
  
#   axs[i,0].scatter(unicas_dia.index, unicas_dia.iloc[:,i], color = color3, s=3, zorder=2)
#   axs[i,0].plot(unicas_dia.index, unicas_dia.iloc[:,i].interpolate().rolling(7).mean(),color = color3, label="Únicas", linewidth = 3, zorder=3)  

#   axs[i,0].scatter(terceras_dia.index, terceras_dia.iloc[:,i], color = color_terceras, s=3, zorder=2)
#   axs[i,0].plot(terceras_dia.index, terceras_dia.iloc[:,i].interpolate().rolling(7).mean(),color = color_terceras, label="Terceras", linewidth = 3, zorder=3)  
  
#   axs[i,0].legend(loc="upper left")
#   axs[i,0].legend(loc="upper left")
#   annotate_last_nonflat(primeras_dia.rolling(7).mean().round().fillna(0).astype(int), i, axis=(i,0), text_color="black", fontsize=6, offset_days=5, edgecolor="black", facecolor="white", alpha=0.8)
#   annotate_last_nonflat(segundas_bid_dia.rolling(7).mean().round().fillna(0).astype(int), i, axis=(i,0), text_color="black", fontsize=6, offset_days=5, edgecolor="black", facecolor="white", alpha=0.8)
#   annotate_last_nonflat(unicas_dia.rolling(7).mean().round().fillna(0).astype(int), i, axis=(i,0), text_color="black", fontsize=6, offset_days=5, edgecolor="black", facecolor="white", alpha=0.8)
#   axs[i,0].set_ylim(bottom=0)


# for i in range(10):
#  # axs[i,1].grid(zorder=1)
#   axs[i,1].set_title("Aplicación diaria de todas las dosis en {}".format(primeras_dia.columns[i]))
#   axs[i,1].scatter(todas_dia.index, todas_dia.iloc[:,i], color = color_total_dosis1, label="aplicación diaria", s=3, zorder=2)
#   axs[i,1].plot(todas_dia.index, todas_dia.iloc[:,i].interpolate().rolling(7).mean(),color = color_total_dosis1, label="promedio semanal", linewidth = 3, zorder=3)
#   axs[i,1].fill_between(todas_dia.index, todas_dia.iloc[:,i].interpolate().rolling(7).mean(),color = color_total_dosis1, zorder=3, alpha=.3)
#   axs[i,1].legend()
#   annotate_last_nonflat(todas_dia.rolling(7).mean().round().fillna(0).astype(int), i, axis=(i,1), text_color="black", fontsize=6, offset_days=5, edgecolor="black", facecolor="white", alpha=0.8)
#   axs[i,1].set_ylim(bottom=0)



# for i in range(10):
#   #axs[i,2].grid(zorder=1)
#   axs[i,2].set_title("Población vacunada en {}".format(primeras_dia.columns[i]))
#   axs[i,2].plot(almenos_una_acum.iloc[:,i].interpolate(), label = "Al menos una dosis", color= color_vac_parcial1, linewidth = 3, zorder=2)
#   axs[i,2].fill_between(almenos_una_acum.index, almenos_una_acum.iloc[:,i].interpolate(),color= color_vac_parcial1,zorder=2)
#   axs[i,2].plot(segunda_o_unica_acum.iloc[:,i].interpolate(), label = "Completamente",color= color_vac_completa1, linewidth = 3, zorder=3)
#   axs[i,2].fill_between(segunda_o_unica_acum.index, segunda_o_unica_acum.iloc[:,i].interpolate(),color= color_vac_completa1, zorder=3)
#   axs[i,2].legend()
#   annotate_last_nonflat(almenos_una_acum.rolling(7).mean().round().fillna(0).astype(int), i, axis=(i,2), text_color="black", fontsize=6, offset_days=5, edgecolor="black", facecolor="white", alpha=0.8)
#   annotate_last_nonflat(segunda_o_unica_acum.rolling(7).mean().round().fillna(0).astype(int), i, axis=(i,2), text_color="black", fontsize=6, offset_days=5, edgecolor="black", facecolor="white", alpha=0.8)

# for i in range(10):
#   #axs[i,3].grid(zorder=1)
#   axs[i,3].set_title("Vacunación por cada 100 habitantes de {}".format(primeras_dia.columns[i]))
#   axs[i,3].plot(almenos_una_pc_acum.iloc[:,i].interpolate(), label = "Al menos una dosis", color= color_vac_parcial1, linewidth = 3, zorder=2)
#   axs[i,3].fill_between(almenos_una_pc_acum.index, almenos_una_pc_acum.iloc[:,i].interpolate(),color= color_vac_parcial1,zorder=2, alpha=.5)
#   axs[i,3].plot(segunda_o_unica_pc.iloc[:,i].interpolate(), label = "Completamente",color= color_vac_completa1, linewidth = 3, zorder=3)
#   axs[i,3].fill_between(segunda_o_unica_pc.index, segunda_o_unica_pc.iloc[:,i].interpolate(),color= color_vac_completa1, zorder=3, alpha=.5)
#   axs[i,3].axhline(y=100, color='red', linestyle='dotted',label="100%", linewidth=3.5)
#   axs[i,3].axhline(y=90, color='orange', linestyle='dotted',label="90%", linewidth=3.5)
#   axs[i,3].legend(loc= "center left")
#   annotate_last_nonflat(almenos_una_pc_acum.rolling(7).mean().round().fillna(0).astype(int), i, axis=(i,3), text_color="black", fontsize=6, offset_days=5, edgecolor="black", facecolor="white", alpha=0.8)
#   annotate_last_nonflat(segunda_o_unica_pc.rolling(7).mean().round().fillna(0).astype(int), i, axis=(i,3), text_color="black", fontsize=6, offset_days=5, edgecolor="black", facecolor="white", alpha=0.8)

# fig.tight_layout()

# fig.savefig(directory + "resumen_detallado.jpg", bbox_inches="tight")






